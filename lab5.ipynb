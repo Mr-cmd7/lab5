{
 "cells": [
  {
   "cell_type": "code",
   "id": "initial_id",
   "metadata": {
    "collapsed": true,
    "ExecuteTime": {
     "end_time": "2024-12-05T10:15:58.200407Z",
     "start_time": "2024-12-05T10:15:55.053259Z"
    }
   },
   "source": [
    "import pandas as pd\n",
    "import numpy as np\n",
    "import matplotlib.pyplot as plt\n",
    "from sklearn.model_selection import train_test_split\n",
    "from sklearn.linear_model import LinearRegression\n",
    "from sklearn.metrics import mean_squared_error, r2_score\n",
    "from sklearn.preprocessing import PolynomialFeatures\n",
    "from sklearn.pipeline import make_pipeline"
   ],
   "outputs": [],
   "execution_count": 1
  },
  {
   "metadata": {
    "ExecuteTime": {
     "end_time": "2024-12-05T10:25:00.354525Z",
     "start_time": "2024-12-05T10:25:00.346757Z"
    }
   },
   "cell_type": "code",
   "source": [
    "# Чтение данных из файла CSV\n",
    "data = pd.read_csv('report.csv')\n",
    "print(data.head())"
   ],
   "id": "b2abf0ff12ad6920",
   "outputs": [
    {
     "name": "stdout",
     "output_type": "stream",
     "text": [
      "   id   X   Y\n",
      "0   1   6  19\n",
      "1   2   3  11\n",
      "2   3  10  24\n",
      "3   4   4  14\n",
      "4   5   2   7\n"
     ]
    }
   ],
   "execution_count": 20
  },
  {
   "metadata": {
    "ExecuteTime": {
     "end_time": "2024-12-05T10:16:17.780708Z",
     "start_time": "2024-12-05T10:16:17.772961Z"
    }
   },
   "cell_type": "code",
   "source": [
    "# Проверяем наличие дубликатов по столбцам 'X' и 'Y'\n",
    "duplicates = data.duplicated(subset=['X', 'Y'])\n",
    "if duplicates.any():\n",
    "    print(\"Есть дубликаты:\")\n",
    "    print(data[duplicates])\n",
    "else:\n",
    "    print(\"Дубликатов нет.\")"
   ],
   "id": "90b25ae8e5d0d95",
   "outputs": [
    {
     "name": "stdout",
     "output_type": "stream",
     "text": [
      "Дубликатов нет.\n"
     ]
    }
   ],
   "execution_count": 3
  },
  {
   "metadata": {
    "ExecuteTime": {
     "end_time": "2024-12-05T10:16:27.492708Z",
     "start_time": "2024-12-05T10:16:27.485889Z"
    }
   },
   "cell_type": "code",
   "source": [
    "# Проверяем наличие пропущенных значений\n",
    "missing_values = data.isna().any()\n",
    "if missing_values.any():\n",
    "    print(\"Пропущенные значения:\")\n",
    "    print(missing_values)\n",
    "else:\n",
    "    print(\"Пропущенных значений нет.\")"
   ],
   "id": "c0b018cd9afa8d31",
   "outputs": [
    {
     "name": "stdout",
     "output_type": "stream",
     "text": [
      "Пропущенных значений нет.\n"
     ]
    }
   ],
   "execution_count": 4
  },
  {
   "metadata": {},
   "cell_type": "code",
   "outputs": [],
   "execution_count": null,
   "source": [
    "#Мы будем использовать линейную регрессию и полиномиальную регрессию. Линейная регрессия является базовым методом, который хорошо подходит для простых зависимостей. Полиномиальная регрессия позволяет учесть нелинейность в данных.\n",
    "\n",
    "#Для оценки качества модели мы используем коэффициент детерминации R^2 и среднеквадратичную ошибку (MSE). Коэффициент детерминации показывает, насколько хорошо модель объясняет вариацию целевого показателя, а MSE оценивает среднюю квадратичную ошибку предсказаний.\n"
   ],
   "id": "8f2a51eee7fd1392"
  },
  {
   "metadata": {
    "ExecuteTime": {
     "end_time": "2024-12-05T10:17:19.127123Z",
     "start_time": "2024-12-05T10:17:19.119396Z"
    }
   },
   "cell_type": "code",
   "source": [
    "# Разделение данных на признаки и целевой признак\n",
    "X = data['X'].values.reshape(-1, 1)\n",
    "y = data['Y'].values\n",
    "\n",
    "# Разделение данных на тренировочные и тестовые наборы\n",
    "X_train, X_test, y_train, y_test = train_test_split(X, y, test_size=0.2, random_state=42)"
   ],
   "id": "90a5c6d85c0e6722",
   "outputs": [],
   "execution_count": 5
  },
  {
   "metadata": {
    "ExecuteTime": {
     "end_time": "2024-12-05T10:24:26.084382Z",
     "start_time": "2024-12-05T10:24:26.070823Z"
    }
   },
   "cell_type": "code",
   "source": [
    "for degree in range(2, 5):\n",
    "    # Полиномиальная регрессия\n",
    "    poly_reg = make_pipeline(PolynomialFeatures(degree), LinearRegression())\n",
    "    poly_reg.fit(X_train, y_train)\n",
    "    \n",
    "    # Прогнозирование на тестовом наборе\n",
    "    y_pred_poly = poly_reg.predict(X_test)\n",
    "    \n",
    "    # Оценка качества модели\n",
    "    mse_poly = mean_squared_error(y_test, y_pred_poly)\n",
    "    r2_poly = r2_score(y_test, y_pred_poly)\n",
    "    \n",
    "    print(f\"\\nПолиномиальная регрессия степени {degree}:\")\n",
    "    print(f\"MSE: {mse_poly:.2f}\")\n",
    "    print(f\"R2: {r2_poly:.2f}\")"
   ],
   "id": "2490c4b28c4e37d9",
   "outputs": [
    {
     "name": "stdout",
     "output_type": "stream",
     "text": [
      "\n",
      "Полиномиальная регрессия степени 2:\n",
      "MSE: 0.19\n",
      "R2: 1.00\n",
      "\n",
      "Полиномиальная регрессия степени 3:\n",
      "MSE: 14.56\n",
      "R2: 0.96\n",
      "\n",
      "Полиномиальная регрессия степени 4:\n",
      "MSE: 21.30\n",
      "R2: 0.94\n"
     ]
    }
   ],
   "execution_count": 19
  },
  {
   "metadata": {},
   "cell_type": "code",
   "outputs": [],
   "execution_count": null,
   "source": "#На основе полученных результатов выбираем лучшую модель. Например, если лучшая модель — полиномиальная регрессия второй степени, то она будет использоваться для прогнозирования.",
   "id": "4cd7a41ec913871c"
  },
  {
   "metadata": {
    "ExecuteTime": {
     "end_time": "2024-12-05T10:24:19.081646Z",
     "start_time": "2024-12-05T10:24:19.074446Z"
    }
   },
   "cell_type": "code",
   "source": [
    "# Предположим, что лучшая модель — полиномиальная регрессия второй степени\n",
    "best_degree = 2\n",
    "poly_reg_best = make_pipeline(PolynomialFeatures(best_degree), LinearRegression())\n",
    "poly_reg_best.fit(X_train, y_train)\n",
    "\n",
    "# Новые значения X для прогноза\n",
    "new_X = [[15], [25]]\n",
    "y_pred_new = poly_reg_best.predict(new_X)\n",
    "\n",
    "print(f\"Прогноз для X={new_X}: {y_pred_new}\")"
   ],
   "id": "c0eeb1fcee950ae5",
   "outputs": [
    {
     "name": "stdout",
     "output_type": "stream",
     "text": [
      "Прогноз для X=[[15], [25]]: [33.70189878 65.12119972]\n"
     ]
    }
   ],
   "execution_count": 11
  }
 ],
 "metadata": {
  "kernelspec": {
   "display_name": "Python 3",
   "language": "python",
   "name": "python3"
  },
  "language_info": {
   "codemirror_mode": {
    "name": "ipython",
    "version": 2
   },
   "file_extension": ".py",
   "mimetype": "text/x-python",
   "name": "python",
   "nbconvert_exporter": "python",
   "pygments_lexer": "ipython2",
   "version": "2.7.6"
  }
 },
 "nbformat": 4,
 "nbformat_minor": 5
}
